{
 "cells": [
  {
   "cell_type": "code",
   "execution_count": 4,
   "id": "43670eed",
   "metadata": {},
   "outputs": [
    {
     "name": "stdout",
     "output_type": "stream",
     "text": [
      "Empty DataFrame\n",
      "Columns: [X, Y, Z]\n",
      "Index: []\n"
     ]
    }
   ],
   "source": [
    "import rasterio\n",
    "from rasterio.windows import from_bounds\n",
    "import numpy as np\n",
    "import pandas as pd\n",
    "\n",
    "# Abrir raster completo\n",
    "with rasterio.open(\"/workspaces/OlmosCity/fotos/ESA_WorldCover_10m_2021_V200_S27W063_Map.tif\") as src:\n",
    "    # Definir bounding box (xmin, ymin, xmax, ymax) en coordenadas WGS84\n",
    "    bounds = (-75.7, 6.1, -75.3, 6.4)  # Medellín aprox\n",
    "    \n",
    "    # Crear ventana\n",
    "    window = from_bounds(*bounds, transform=src.transform)\n",
    "    \n",
    "    # Leer solo esa porción\n",
    "    subset = src.read(1, window=window)\n",
    "    \n",
    "    # Obtener el transform de esa ventana\n",
    "    transform = src.window_transform(window)\n",
    "\n",
    "# --- Convertir a DataFrame ---\n",
    "# Crear arrays de coordenadas (X, Y)\n",
    "rows, cols = np.meshgrid(\n",
    "    np.arange(subset.shape[0]), \n",
    "    np.arange(subset.shape[1]), \n",
    "    indexing=\"ij\"\n",
    ")\n",
    "\n",
    "xs, ys = rasterio.transform.xy(transform, rows, cols)\n",
    "\n",
    "# Pasar a columnas\n",
    "df = pd.DataFrame({\n",
    "    \"X\": np.array(xs).flatten(),\n",
    "    \"Y\": np.array(ys).flatten(),\n",
    "    \"Z\": subset.flatten()\n",
    "})\n",
    "\n",
    "# Eliminar celdas sin datos (NaN o nodata)\n",
    "df = df.dropna(subset=[\"Z\"])\n",
    "print(df.head())\n"
   ]
  }
 ],
 "metadata": {
  "kernelspec": {
   "display_name": ".venv",
   "language": "python",
   "name": "python3"
  },
  "language_info": {
   "codemirror_mode": {
    "name": "ipython",
    "version": 3
   },
   "file_extension": ".py",
   "mimetype": "text/x-python",
   "name": "python",
   "nbconvert_exporter": "python",
   "pygments_lexer": "ipython3",
   "version": "3.12.3"
  }
 },
 "nbformat": 4,
 "nbformat_minor": 5
}
